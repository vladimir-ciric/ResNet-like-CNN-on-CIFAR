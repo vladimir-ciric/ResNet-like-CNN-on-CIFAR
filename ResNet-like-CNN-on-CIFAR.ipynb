{
  "cells": [
    {
      "cell_type": "code",
      "execution_count": null,
      "metadata": {
        "id": "Xn4fIE8ARQE1"
      },
      "outputs": [],
      "source": [
        "import matplotlib.pyplot as plt\n",
        "import numpy as np\n",
        "import pandas as pd\n",
        "import torch\n",
        "import torch.nn as nn\n",
        "import torch.nn.functional as F\n",
        "from torchvision import datasets, transforms\n",
        "from copy import deepcopy\n",
        "from sklearn.metrics import accuracy_score, f1_score\n",
        "from tqdm.notebook import tqdm\n",
        "from collections import defaultdict\n",
        "from IPython.display import clear_output\n",
        "import torchvision\n",
        "from torch.utils.data import DataLoader"
      ]
    },
    {
      "cell_type": "code",
      "source": [
        "class CustomResnet(nn.Module):\n",
        "    def __init__(self, class_nums=10):\n",
        "        super(CustomResnet, self).__init__()\n",
        "    \n",
        "        self.excitation = nn.Sequential( # 3, 32, 32\n",
        "            nn.Conv2d(3, 16, kernel_size=3, stride=1, padding=1), # 16, 16, 16\n",
        "            nn.ReLU(), \n",
        "            nn.BatchNorm2d(16), \n",
        "            BasicBlock(16, '-'), #16\n",
        "            BasicBlock(16, '+'),  # 32\n",
        "            BasicBlock(32, '-'), #32\n",
        "            BasicBlock(32, '+'),  # 64\n",
        "            BasicBlock(64, '-'), #64\n",
        "            BasicBlock(64, '-'),  # 64\n",
        "            nn.AdaptiveAvgPool2d((1, 1)),\n",
        "            nn.Flatten(),\n",
        "            nn.Linear(64, 10),\n",
        "        )\n",
        "\n",
        "    def forward(self, batch):\n",
        "        scores = self.excitation(batch)\n",
        "        return scores\n",
        "\n",
        "\n",
        "class BasicBlock(nn.Module):\n",
        "    def __init__(self, in_channels, downsample):  \n",
        "        super(BasicBlock, self).__init__()\n",
        "       \n",
        "        self.downsample = downsample\n",
        "\n",
        "        if self.downsample == '+':\n",
        "                        # y = F (x, {Wi }) + Ws x.\n",
        "            self.Ws = nn.Conv2d(\n",
        "                in_channels, 2*in_channels, kernel_size=1, stride=2\n",
        "            )\n",
        "            self.conv = nn.Sequential(\n",
        "            nn.Conv2d(in_channels, in_channels, kernel_size=3, stride=1, padding=1),\n",
        "            nn.ReLU(),\n",
        "            nn.BatchNorm2d(in_channels),\n",
        "            nn.Conv2d(\n",
        "                in_channels, 2*in_channels, kernel_size=3, stride=2, padding=1\n",
        "            ),\n",
        "            nn.ReLU(),\n",
        "            nn.BatchNorm2d(2*in_channels),\n",
        "            )\n",
        "\n",
        "        else:\n",
        "                #y = F (x, {Wi }) + x\n",
        "            self.Ws = None\n",
        "            self.conv = nn.Sequential(\n",
        "            nn.Conv2d(in_channels, in_channels, kernel_size=3, stride=1, padding=1),\n",
        "            nn.ReLU(),\n",
        "            nn.BatchNorm2d(in_channels),\n",
        "            nn.Conv2d(\n",
        "                in_channels, in_channels, kernel_size=3, stride=1, padding=1\n",
        "            ),\n",
        "            nn.ReLU(),\n",
        "            nn.BatchNorm2d(in_channels),\n",
        "            )\n",
        "       \n",
        "\n",
        "    def forward(self, x):\n",
        "        identity = x\n",
        "        out = self.conv(x)\n",
        "        if self.downsample == '+':\n",
        "            identity = self.Ws(identity)\n",
        "        return out + identity"
      ],
      "metadata": {
        "id": "5zb5-XesOGBh"
      },
      "execution_count": null,
      "outputs": []
    },
    {
      "cell_type": "code",
      "execution_count": null,
      "metadata": {
        "id": "T8xDTXy7RQFM",
        "colab": {
          "base_uri": "https://localhost:8080/"
        },
        "outputId": "627d061d-ad37-4828-a8c1-a76963a7511c"
      },
      "outputs": [
        {
          "output_type": "stream",
          "name": "stdout",
          "text": [
            "Downloading https://www.cs.toronto.edu/~kriz/cifar-10-python.tar.gz to content/cifar-10-python.tar.gz\n"
          ]
        },
        {
          "output_type": "stream",
          "name": "stderr",
          "text": [
            "100%|██████████| 170498071/170498071 [00:03<00:00, 48865499.90it/s]\n"
          ]
        },
        {
          "output_type": "stream",
          "name": "stdout",
          "text": [
            "Extracting content/cifar-10-python.tar.gz to content\n",
            "Files already downloaded and verified\n"
          ]
        }
      ],
      "source": [
        "cifar10_mean = (0.491, 0.482, 0.447)\n",
        "cifar10_std = (0.247, 0.244, 0.262)\n",
        "cifar10_normalize = transforms.Normalize(cifar10_mean, cifar10_std)\n",
        "\n",
        "test_transforms = transforms.Compose(\n",
        "    [\n",
        "        transforms.ToTensor(),\n",
        "        cifar10_normalize,\n",
        "    ]\n",
        ")\n",
        "\n",
        "train_transforms = transforms.Compose(\n",
        "    [\n",
        "        transforms.ToTensor(),\n",
        "        cifar10_normalize,\n",
        "        transforms.RandomCrop(size=32, padding=4),\n",
        "        transforms.RandomHorizontalFlip(p=0.5)\n",
        "    ]\n",
        ")\n",
        "\n",
        "\n",
        "# Download test set\n",
        "testset = datasets.CIFAR10(\n",
        "    \"content\", train=False, transform=test_transforms, download=True\n",
        ")\n",
        "\n",
        "# Download train set\n",
        "trainset = datasets.CIFAR10(\n",
        "    \"content\", train=True, transform=train_transforms, download=True\n",
        ")\n",
        "\n",
        "train_cifar_loader = DataLoader(trainset, batch_size=128, shuffle=True, num_workers=2)\n",
        "test_cifar_loader = DataLoader(testset, batch_size=512, shuffle=False, num_workers=2)"
      ]
    },
    {
      "cell_type": "code",
      "source": [
        "class BaseTrainer:\n",
        "    def __init__(\n",
        "        self,\n",
        "        model,\n",
        "        train_dataloader,\n",
        "        test_dataloader,\n",
        "    ):\n",
        "        self.model = model\n",
        "        self.criterion = torch.nn.CrossEntropyLoss()\n",
        "        self.optimizer = torch.optim.AdamW(model.parameters())\n",
        "        self.scheduler = None\n",
        "        self.num_epochs = 3\n",
        "        self.device = torch.device(\"cuda\" if torch.cuda.is_available() else \"cpu\")\n",
        "\n",
        "        self.train_dataloader = train_dataloader\n",
        "        self.test_dataloader = test_dataloader\n",
        "        self.best_model = None\n",
        "        self.set_score_function(accuracy_score, \"accuracy\")\n",
        "        self.pp = ProgressPlotter(title=\"baseline\", groups=[\"loss\"])\n",
        "\n",
        "    def set_score_function(self, score_function, title=\"quality metric\"):\n",
        "        self.score_function = score_function\n",
        "        self.quality_metric = title\n",
        "\n",
        "    def train_epoch(self):\n",
        "\n",
        "        self.model.train()\n",
        "        loss_hist = []\n",
        "        for images, labels in self.train_dataloader:\n",
        "            self.optimizer.zero_grad()\n",
        "            preds = self.model(images.to(self.device))\n",
        "            loss = self.criterion(preds, labels.to(self.device))\n",
        "            loss.backward()\n",
        "            loss_hist.append(loss.detach().cpu())\n",
        "            self.optimizer.step()\n",
        "        return torch.stack(loss_hist).mean().item()\n",
        "\n",
        "    def val_epoch(self):\n",
        "        loss_hist = []\n",
        "        self.model.eval()\n",
        "        with torch.no_grad():\n",
        "            for images, labels in self.test_dataloader:\n",
        "                preds = self.model(images.to(self.device))\n",
        "                loss = self.criterion(preds, labels.to(self.device))\n",
        "                loss_hist.append(loss.detach().cpu())\n",
        "        return torch.stack(loss_hist).mean()\n",
        "\n",
        "    def fit(self, verbose=True):\n",
        "        self.model.to(self.device)\n",
        "        best_metric_on_val = -np.inf\n",
        "        \n",
        "        for epoch in tqdm(range(self.num_epochs)):\n",
        "            loss_on_train = self.train_epoch()\n",
        "            loss_on_val = self.val_epoch()\n",
        "            \n",
        "            if self.scheduler is not None:\n",
        "                self.scheduler.step()\n",
        "            \n",
        "            metric_on_train = self.validate(on_train=True)\n",
        "            metric_on_val = self.validate(on_train=False)\n",
        "\n",
        "            if metric_on_val > best_metric_on_val:\n",
        "                print(\"Best model updated\")\n",
        "                best_metric_on_val = metric_on_val\n",
        "                self.save_best_model()\n",
        "\n",
        "            self.pp.add_scalar(group=\"loss\", value=loss_on_train, tag=\"train\")\n",
        "            self.pp.add_scalar(group=\"loss\", value=loss_on_val, tag=\"val\")\n",
        "            self.pp.add_scalar(\n",
        "                group=self.quality_metric, value=metric_on_train, tag=\"train\"\n",
        "            )\n",
        "            self.pp.add_scalar(\n",
        "                group=self.quality_metric, value=metric_on_val, tag=\"val\"\n",
        "            )\n",
        "\n",
        "            if verbose:\n",
        "                self.pp.display()\n",
        "\n",
        "    def validate(self, on_train=False, using_best_model=False, **kwargs):\n",
        "\n",
        "        dl = self.train_dataloader if on_train else self.test_dataloader\n",
        "        model = self.best_model if using_best_model else self.model\n",
        "\n",
        "        y_pred, y_true = self.get_predictions(model, dl)\n",
        "        return self.score_function(y_pred, y_true, **kwargs)\n",
        "\n",
        "    def give_best_model(self, on_train=False, using_best_model=False, **kwargs):\n",
        "\n",
        "        dl = self.train_dataloader if on_train else self.test_dataloader\n",
        "        model = self.best_model if using_best_model else self.model\n",
        "        return model\n",
        "\n",
        "    def get_predictions(self, model, dl):\n",
        "        y_pred = torch.tensor([])\n",
        "        y_true = torch.tensor([])\n",
        "\n",
        "        with torch.no_grad():\n",
        "            for i, data in enumerate(dl):\n",
        "                img, label = data\n",
        "                outputs = model(img.to(self.device))\n",
        "                _, predicted = torch.max(outputs.data, 1)\n",
        "                y_pred = torch.cat((y_pred, predicted.cpu().detach()))\n",
        "                y_true = torch.cat((y_true, label))\n",
        "        return y_pred, y_true\n",
        "\n",
        "    def save_best_model(\n",
        "        self,\n",
        "    ):\n",
        "        model_copy = deepcopy(self.model)\n",
        "        self.best_model = model_copy"
      ],
      "metadata": {
        "id": "KB5NqEeq0BXR"
      },
      "execution_count": null,
      "outputs": []
    },
    {
      "cell_type": "code",
      "source": [
        "class ProgressPlotter:\n",
        "\n",
        "    def __init__(self, title=\"default\", groups=None) -> None:\n",
        "        self._history_dict = defaultdict(dict)\n",
        "        self.set_title(title)\n",
        "        self.groups = self.get_groups(groups)\n",
        "\n",
        "    def get_groups(self, groups):\n",
        "        if groups is not None:\n",
        "            return self._history_dict.keys()\n",
        "        if type(groups) is str:\n",
        "            groups = [groups]\n",
        "        return groups\n",
        "\n",
        "    def set_title(self, title):\n",
        "        for g in self._history_dict.keys():\n",
        "            self._history_dict[g][title] = []  # reset data\n",
        "        self.title = title\n",
        "\n",
        "    # group e.g. \"loss_val\" tag e.g. \"experiment_1\"\n",
        "    def add_scalar(self, group: str, value, tag=None) -> None:\n",
        "        tag = self.title if tag is None else tag\n",
        "\n",
        "        if not tag in self._history_dict[group]:\n",
        "            self._history_dict[group][tag] = []\n",
        "        self._history_dict[group][tag].append(value)\n",
        "\n",
        "    def add_row(self, group: str, value, tag=None) -> None:\n",
        "        tag = self.title if tag is None else tag\n",
        "        self._history_dict[group][tag] = value\n",
        "\n",
        "    def display_keys(self, ax, data):\n",
        "        history_len = 0\n",
        "        ax.grid()\n",
        "        for key in data:\n",
        "            ax.plot(data[key], label=key)\n",
        "            history_len = max(history_len, len(data[key]))\n",
        "            if len(data) > 1:\n",
        "                ax.legend(loc=\"best\")\n",
        "            if history_len < 50:\n",
        "                ax.set_xlabel(\"step\")\n",
        "                ax.set_xticks(np.arange(history_len))\n",
        "                ax.set_xticklabels(np.arange(history_len))\n",
        "\n",
        "    def display(self, groups=None):\n",
        "        clear_output()\n",
        "        if groups is None:\n",
        "            groups = self.groups\n",
        "        n_groups = len(groups)\n",
        "        fig, ax = plt.subplots(1, n_groups, figsize=(48 // n_groups, 3))\n",
        "        if n_groups == 1:\n",
        "            ax = [ax]\n",
        "        for i, g in enumerate(groups):\n",
        "            ax[i].set_ylabel(g)\n",
        "            self.display_keys(ax[i], self.history_dict[g])\n",
        "        fig.tight_layout()\n",
        "        plt.show()\n",
        "\n",
        "    @property\n",
        "    def history_dict(self):\n",
        "        return dict(self._history_dict)"
      ],
      "metadata": {
        "id": "DcE8iH_60OlH"
      },
      "execution_count": null,
      "outputs": []
    },
    {
      "cell_type": "code",
      "execution_count": null,
      "metadata": {
        "id": "BQ1BBW2zRQFM"
      },
      "outputs": [],
      "source": [
        "custom_resnet = CustomResnet()\n",
        "\n",
        "trainer = BaseTrainer(\n",
        "    model=custom_resnet , \n",
        "    train_dataloader=train_cifar_loader , \n",
        "    test_dataloader=test_cifar_loader ,\n",
        ")"
      ]
    },
    {
      "cell_type": "code",
      "source": [
        "%%time\n",
        "\n",
        "trainer.optimizer = torch.optim.AdamW(trainer.model.parameters(), lr=0.01)\n",
        "trainer.scheduler = torch.optim.lr_scheduler.MultiStepLR(trainer.optimizer, milestones=[10,13], gamma=0.1)\n",
        "trainer.num_epochs = 15\n",
        "trainer.fit()"
      ],
      "metadata": {
        "colab": {
          "base_uri": "https://localhost:8080/",
          "height": 150
        },
        "id": "ghpV06YgRA54",
        "outputId": "b5cbc3b1-19a7-4347-8729-1914710dd836"
      },
      "execution_count": null,
      "outputs": [
        {
          "output_type": "display_data",
          "data": {
            "text/plain": [
              "<Figure size 2400x300 with 2 Axes>"
            ],
            "image/png": "[encoded data removed]"
          },
          "metadata": {}
        },
        {
          "output_type": "stream",
          "name": "stdout",
          "text": [
            "CPU times: user 3min 29s, sys: 17.5 s, total: 3min 46s\n",
            "Wall time: 13min 20s\n"
          ]
        }
      ]
    },
    {
      "cell_type": "code",
      "source": [
        "trainer.validate(on_train=False, using_best_model=True)"
      ],
      "metadata": {
        "colab": {
          "base_uri": "https://localhost:8080/"
        },
        "id": "v4HKHGo9RCs_",
        "outputId": "ccc6c55a-07a1-4675-93f7-0610d31a79dd"
      },
      "execution_count": null,
      "outputs": [
        {
          "output_type": "execute_result",
          "data": {
            "text/plain": [
              "0.8661"
            ]
          },
          "metadata": {},
          "execution_count": 8
        }
      ]
    }
  ],
  "metadata": {
    "colab": {
      "provenance": [],
      "toc_visible": true
    },
    "accelerator": "GPU",
    "gpuClass": "standard",
    "language_info": {
      "name": "python"
    },
    "kernelspec": {
      "name": "python3",
      "display_name": "Python 3"
    }
  },
  "nbformat": 4,
  "nbformat_minor": 0
}
